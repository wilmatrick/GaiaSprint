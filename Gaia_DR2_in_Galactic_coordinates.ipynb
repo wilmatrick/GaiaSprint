{
 "cells": [
  {
   "cell_type": "markdown",
   "metadata": {},
   "source": [
    "# How to transform Gaia DR2 coordinates into Galactic coordinates"
   ]
  },
  {
   "cell_type": "markdown",
   "metadata": {},
   "source": [
    "## 0) I just want some \"black box\" python code..."
   ]
  },
  {
   "cell_type": "markdown",
   "metadata": {},
   "source": [
    "Make sure you have **astropy** installed and copy-paste the code in the last box at the end of this document."
   ]
  },
  {
   "cell_type": "markdown",
   "metadata": {},
   "source": [
    "## 1) Which coordinate system is Gaia DR2 using?"
   ]
  },
  {
   "cell_type": "markdown",
   "metadata": {},
   "source": [
    "**Reference epoch: 2015.5**\n",
    "\n",
    "--> This is the point in time at which the star was located at the observed position on the sky.\n",
    "\n",
    "If the Gaia DR2 has to be cross-matched with a catalog of stars that were observed at a different time (e.g. TGAS: 2015.0), then the proper motion movement of the stars between the different epochs has to be taken into account.\n",
    "\n",
    "If we use data from Gaia DR2, we investigate the Galaxy's structure/configuration as it was in mid 2015.\n",
    "\n",
    "**Reference coordinate frame: ICRS**\n",
    "\n",
    "--> This sets the spatial coordinate frame for positions and proper motions. It defines (ra,dec)=(0,0) and the corresponding coordinate axes and is fixed in time and space. ICRS is independent of Earth's motion. \n",
    "\n",
    "ICRS is quite close to the epoch \"J2000.0\" coordinate frame. This means, (ra,dec)=(0,0) in ICRS is close to the vernal equinox in 2000, and dec~0 corresponds to the equator in year 2000. Since then, equator and equinox have, however, changed their position due to the precession of the Earth's axis, but the ICRS coordinate frame is still the same, i.e. a star that would not move with respect to the Sun still had the same (ra,dec) in 2000 and 2015."
   ]
  },
  {
   "cell_type": "markdown",
   "metadata": {},
   "source": [
    "## 2) Which input data do we need?"
   ]
  },
  {
   "cell_type": "markdown",
   "metadata": {},
   "source": [
    "a) The 3D positions and 3D velocities of the stars:"
   ]
  },
  {
   "cell_type": "code",
   "execution_count": 1,
   "metadata": {},
   "outputs": [],
   "source": [
    "import numpy as np\n",
    "\n",
    "#Position of stars:\n",
    "ra_deg  = np.array([7.7750132145]) #right ascension [rad] in ICRS\n",
    "dec_deg = np.array([-26.8097293548]) #declination [rad] in ICRS\n",
    "d_kpc   = np.array([890.547792917])/1000.  #distance from Sun [kpc]\n",
    "\n",
    "#Velocity of stars:\n",
    "pm_ra_masyr  = np.array([24.965]) #proper motion in direction of right ascension [mas/yr] in ICRS\n",
    "pm_dec_masyr = np.array([-9.683]) #proper motion in direction of declination [mas/yr] in ICRS\n",
    "v_los_kms    = np.array([-4.351]) #line-of-sight velocity [km/s]"
   ]
  },
  {
   "cell_type": "markdown",
   "metadata": {},
   "source": [
    "b) The position of the Sun in the Galactic plane:"
   ]
  },
  {
   "cell_type": "code",
   "execution_count": 2,
   "metadata": {},
   "outputs": [],
   "source": [
    "#Galactocentric position of the Sun:\n",
    "X_GC_sun_kpc = 8.    #[kpc]\n",
    "Z_GC_sun_kpc = 0.025 #[kpc] (e.g. Juric et al. 2008)"
   ]
  },
  {
   "cell_type": "markdown",
   "metadata": {},
   "source": [
    "c) The velocity of the Sun with respect to the Local Standard of Rest:"
   ]
  },
  {
   "cell_type": "code",
   "execution_count": 3,
   "metadata": {},
   "outputs": [],
   "source": [
    "#Velocity of the Sun w.r.t. the Local Standard of Rest (e.g. Schoenrich et al. 2009):\n",
    "U_LSR_kms = 11.1  # [km/s]\n",
    "V_LSR_kms = 12.24 # [km/s]\n",
    "W_LSR_kms = 7.25  # [km/s]"
   ]
  },
  {
   "cell_type": "markdown",
   "metadata": {},
   "source": [
    "d) The circular velocity of the Galaxy at the Solar radius:"
   ]
  },
  {
   "cell_type": "code",
   "execution_count": 4,
   "metadata": {},
   "outputs": [],
   "source": [
    "#circular velocity of the Galactic potential at the radius of the Sun:\n",
    "vcirc_kms = 220. #[km/s] (e.g. Bovy 2015)"
   ]
  },
  {
   "cell_type": "markdown",
   "metadata": {},
   "source": [
    "--> From this follows as the velocities of the Sun in the Galactocentric inertial frame:"
   ]
  },
  {
   "cell_type": "code",
   "execution_count": 5,
   "metadata": {},
   "outputs": [],
   "source": [
    "#Galactocentric velocity of the Sun:\n",
    "vX_GC_sun_kms = -U_LSR_kms           # = -U              [km/s]\n",
    "vY_GC_sun_kms =  V_LSR_kms+vcirc_kms # = V+v_circ(R_Sun) [km/s]\n",
    "vZ_GC_sun_kms =  W_LSR_kms           # = W               [km/s]"
   ]
  },
  {
   "cell_type": "markdown",
   "metadata": {},
   "source": [
    "## 3) Transformation to Galactic sky coordinates:"
   ]
  },
  {
   "cell_type": "markdown",
   "metadata": {},
   "source": [
    "(l,b) are Galactic coordinates. The Galactic center is at (l,b)=0, and the plane of the disk runs along b=0. (ra,dec) on the plane of the sky needs to be rotated from its orientation with respect to the **[vernal equinox,equator] in 2000.0** (or, more correctly, from the **ICRS**) to (l,b) with respect to **[Galactic center,Galactic plane]**."
   ]
  },
  {
   "cell_type": "markdown",
   "metadata": {},
   "source": [
    "**Option A:** Use the galpy package by Jo Bovy (http://galpy.readthedocs.io/en/v1.3.0/, Bovy 2015) together with the \"2000.0\" coordinate frame. For most applications this is close enough to ICRS."
   ]
  },
  {
   "cell_type": "code",
   "execution_count": 6,
   "metadata": {},
   "outputs": [
    {
     "name": "stdout",
     "output_type": "stream",
     "text": [
      "/Users/trick/software/miniconda2/lib/python2.7/site-packages/astropy/coordinates/sky_coordinate.py:1600: AstropyDeprecationWarning: Passing a frame as a positional argument is now deprecated, use the frame= keyword argument instead.\n",
      "  \"instead.\", AstropyDeprecationWarning)\n",
      "\n",
      "galpy 2000.0:\t\t(l,b) =\t\t[35.79645679] [-85.45759215]  [deg]\n",
      "galpy 2000.0:\t\t(pm_l,pm_b) =\t[-7.39326495] [-25.73618751]  [mas/yr]\n"
     ]
    }
   ],
   "source": [
    "#Possibility A: Use the fact that epoch \"J2000.0\" equator/equinox are close to ICRS:\n",
    "\n",
    "from galpy.util import bovy_coords\n",
    "\n",
    "#_____(ra,dec) --> Galactic coordinates (l,b):_____\n",
    "lb = bovy_coords.radec_to_lb(\n",
    "                ra_deg,dec_deg,\n",
    "                degree=True,\n",
    "                epoch=2000.0\n",
    "                )\n",
    "l_deg = lb[:,0]\n",
    "b_deg = lb[:,1]\n",
    "print \"galpy 2000.0:\\t\\t(l,b) =\\t\\t\",l_deg,b_deg,\" [deg]\"\n",
    "\n",
    "#_____(pm_ra,pm_dec) --> (pm_l,pm_b)_____\n",
    "pmlpmb = bovy_coords.pmrapmdec_to_pmllpmbb(\n",
    "                    pm_ra_masyr,\n",
    "                    pm_dec_masyr,\n",
    "                    ra_deg,dec_deg,\n",
    "                    degree=True,\n",
    "                    epoch=2000.0\n",
    "                    )\n",
    "pml_masyr = pmlpmb[:,0]\n",
    "pmb_masyr = pmlpmb[:,1]\n",
    "print \"galpy 2000.0:\\t\\t(pm_l,pm_b) =\\t\",pml_masyr,pmb_masyr,\" [mas/yr]\""
   ]
  },
  {
   "cell_type": "markdown",
   "metadata": {},
   "source": [
    "**Option B:** If galpy is setup to internally use astropy, it can also deal with ICRS as coordinate frame. For this, the epoch needs to be set to \"None\"."
   ]
  },
  {
   "cell_type": "code",
   "execution_count": 7,
   "metadata": {},
   "outputs": [
    {
     "name": "stdout",
     "output_type": "stream",
     "text": [
      "galpy ICRS:\t\t(l,b) =\t\t[35.79648236] [-85.45759503]  [deg]\n",
      "galpy ICRS:\t\t(pm_l,pm_b) =\t[-7.39325713] [-25.73618975]  [mas/yr]\n"
     ]
    }
   ],
   "source": [
    "#Possibility B: Use \"None\" as epoch in galpy. It should then use internally the astropy ICRS transformation.\n",
    "\n",
    "#_____(ra,dec) --> Galactic coordinates (l,b):_____\n",
    "lb = bovy_coords.radec_to_lb(\n",
    "                ra_deg,dec_deg,\n",
    "                degree=True,\n",
    "                epoch=None\n",
    "                )\n",
    "l_deg = lb[:,0]\n",
    "b_deg = lb[:,1]\n",
    "print \"galpy ICRS:\\t\\t(l,b) =\\t\\t\",l_deg,b_deg,\" [deg]\"\n",
    "\n",
    "#_____(pm_ra,pm_dec) --> (pm_l,pm_b)_____\n",
    "pmlpmb = bovy_coords.pmrapmdec_to_pmllpmbb(\n",
    "                    pm_ra_masyr,\n",
    "                    pm_dec_masyr,\n",
    "                    ra_deg,dec_deg,\n",
    "                    degree=True,\n",
    "                    epoch=None\n",
    "                    )\n",
    "pml_masyr = pmlpmb[:,0]\n",
    "pmb_masyr = pmlpmb[:,1]\n",
    "print \"galpy ICRS:\\t\\t(pm_l,pm_b) =\\t\",pml_masyr,pmb_masyr,\" [mas/yr]\""
   ]
  },
  {
   "cell_type": "markdown",
   "metadata": {},
   "source": [
    "**Option C:** Use the rotation matrix from ICRS to Galactic coordinates provided in the Gaia DR2 documentation. See Equation (3.61) here: https://gea.esac.esa.int/archive/documentation/GDR2/pdf/GaiaDR2_documentation_1.0.pdf"
   ]
  },
  {
   "cell_type": "code",
   "execution_count": 8,
   "metadata": {},
   "outputs": [
    {
     "name": "stdout",
     "output_type": "stream",
     "text": [
      "Gaia DR2 ICRS (galpy):\t\t(l,b) =\t\t[35.7964446] [-85.45759328]  [deg]\n",
      "Gaia DR2 ICRS (galpy):\t\t(pm_l,pm_b) =\t[-7.39327134] [-25.73618567]  [mas/yr]\n"
     ]
    }
   ],
   "source": [
    "#Possibility C: Use the ICRS transformation provided by the Gaia DR2 documentation:\n",
    "A_G_p = np.array([[-0.0548755604162154,-0.8734370902348850,-0.4838350155487132],\n",
    "                  [+0.4941094278755837,-0.4448296299600112,+0.7469822444972189],\n",
    "                  [-0.8676661490190047,-0.1980763734312015,+0.4559837761750669]])\n",
    "\n",
    "#_____(ra,dec) --> Galactic coordinates (l,b):_____\n",
    "lb = bovy_coords.radec_to_custom(\n",
    "                ra_deg,dec_deg,\n",
    "                T=A_G_p,\n",
    "                degree=True,\n",
    "                epoch=None\n",
    "                )\n",
    "l_deg = lb[:,0]\n",
    "b_deg = lb[:,1]\n",
    "print \"Gaia DR2 ICRS (galpy):\\t\\t(l,b) =\\t\\t\",l_deg,b_deg,\" [deg]\"\n",
    "\n",
    "#_____(pm_ra,pm_dec) --> (pm_l,pm_b)_____\n",
    "pmlpmb = bovy_coords.pmrapmdec_to_custom(\n",
    "                        pm_ra_masyr,pm_dec_masyr,\n",
    "                        ra_deg,dec_deg,\n",
    "                        T=A_G_p,\n",
    "                        degree=True,epoch=2000.0)\n",
    "pml_masyr = pmlpmb[:,0]\n",
    "pmb_masyr = pmlpmb[:,1]\n",
    "print \"Gaia DR2 ICRS (galpy):\\t\\t(pm_l,pm_b) =\\t\",pml_masyr,pmb_masyr,\" [mas/yr]\""
   ]
  },
  {
   "cell_type": "markdown",
   "metadata": {},
   "source": [
    "To illustrate that the galpy black box function is indeed doing the same conversion as the Gaia DR2 documentation suggests in Equations (3.66)-(3.70), here the same calculation done by hand:"
   ]
  },
  {
   "cell_type": "code",
   "execution_count": 9,
   "metadata": {},
   "outputs": [
    {
     "name": "stdout",
     "output_type": "stream",
     "text": [
      "Gaia DR2 ICRS (by hand):\t\t(pm_l,pm_b) =\t-7.393271339713005 -25.736185671100888  [mas/yr]\n"
     ]
    }
   ],
   "source": [
    "#_____(pm_ra,pm_dec) --> (pm_l,pm_b)_____\n",
    "#space coordinates in rad:\n",
    "ra_rad  = ra_deg *(np.pi/180.) \n",
    "dec_rad = dec_deg*(np.pi/180.) \n",
    "l_rad   = l_deg  *(np.pi/180.) \n",
    "b_rad   = b_deg  *(np.pi/180.) \n",
    "\n",
    "#auxilliary unit vectors:\n",
    "p_ICRS = np.vstack((-np.sin(ra_rad),np.cos(ra_rad),np.zeros_like(ra_deg))) #Equation (3.64)\n",
    "q_ICRS = np.vstack((-np.cos(ra_rad)*np.sin(dec_rad),-np.sin(ra_rad)*np.sin(dec_rad),np.cos(dec_rad))) #Equation (3.64)\n",
    "p_Gal  = np.vstack((-np.sin(l_rad),np.cos(l_rad),np.zeros_like(l_rad))) #Equation (3.65)\n",
    "q_Gal  = np.vstack((-np.cos(l_rad)*np.sin(b_rad),-np.sin(l_rad)*np.sin(b_rad),np.cos(b_rad))) #Equation (3.65)\n",
    "\n",
    "#proper motion vector in ICRS:\n",
    "pm_ICRS_masyr = p_ICRS*pm_ra_masyr + q_ICRS*pm_dec_masyr #Equation (3.66)\n",
    "\n",
    "#proper motion vector in Galactic coordinates by using the rotation matrix:\n",
    "pm_Gal_masyr  = np.dot(A_G_p,pm_ICRS_masyr) #Equation (3.68)\n",
    "\n",
    "#projecting the proper motion vector in (l,b) direction:\n",
    "pml_masyr = np.squeeze(np.dot(p_Gal.T,pm_Gal_masyr)) #Equation (3.70)\n",
    "pmb_masyr = np.squeeze(np.dot(q_Gal.T,pm_Gal_masyr)) #Equation (3.70)\n",
    "\n",
    "print \"Gaia DR2 ICRS (by hand):\\t\\t(pm_l,pm_b) =\\t\",pml_masyr,pmb_masyr,\" [mas/yr]\""
   ]
  },
  {
   "cell_type": "markdown",
   "metadata": {},
   "source": [
    "## 4) Transformation to heliocentric Galactic cartesian coordinates:"
   ]
  },
  {
   "cell_type": "markdown",
   "metadata": {},
   "source": [
    "The angular 2D position on the plane of the sky (l,b) is now - together with the distance of the star to the Sun - converted to Cartesian coordinates, centered on and co-moving with the Sun. The angular velocities (pm_l,pm_b) are combined with the distance and complemented by the line-of-sight velocity v_los to form a 3D space velocity vector. \n",
    "\n",
    "The positions (X,Y,Z) are defined towards the Galactic center, the Galactic North pole, in the direction of Galactic rotation. The corresponding velocities in these coordinate directions are (U,V,W)."
   ]
  },
  {
   "cell_type": "code",
   "execution_count": 10,
   "metadata": {},
   "outputs": [],
   "source": [
    "#_____(l,b,d) --> Galactic, heliocentric cartesian coordinates (X,Y,Z)_____\n",
    "xyz = bovy_coords.lbd_to_XYZ(\n",
    "                l_deg,b_deg,\n",
    "                d_kpc,\n",
    "                degree=True)\n",
    "X_HC_kpc = xyz[:,0]\n",
    "Y_HC_kpc = xyz[:,1]\n",
    "Z_HC_kpc = xyz[:,2]\n",
    "\n",
    "#_____(v_los,pm_l,pm_b) & (l,b,d) --> (vx,vy,vz)______\n",
    "vxvyvz = bovy_coords.vrpmllpmbb_to_vxvyvz(\n",
    "                v_los_kms,\n",
    "                pml_masyr,pmb_masyr,\n",
    "                l_deg,b_deg,\n",
    "                d_kpc,\n",
    "                XYZ=False,degree=True\n",
    "                )\n",
    "U_HC_kms = vxvyvz[:,0]\n",
    "V_HC_kms = vxvyvz[:,1]\n",
    "W_HC_kms = vxvyvz[:,2]"
   ]
  },
  {
   "cell_type": "markdown",
   "metadata": {},
   "source": [
    "## 5) Transformation to Galactocentric cylindrical coordinates:"
   ]
  },
  {
   "cell_type": "markdown",
   "metadata": {},
   "source": [
    "The step from heliocentric to Galactocentric positions and velocities requires assumptions for the position and velocity of the Sun within the Galaxy. See section 2) above."
   ]
  },
  {
   "cell_type": "code",
   "execution_count": 11,
   "metadata": {},
   "outputs": [],
   "source": [
    "#______(X,Y,Z) --> Galactic, Galactocentric cylindrical coordinates (R,phi,z)______:\n",
    "Rzphi= bovy_coords.XYZ_to_galcencyl(\n",
    "                X_HC_kpc, Y_HC_kpc, Z_HC_kpc, \n",
    "                Xsun=X_GC_sun_kpc,Zsun=Z_GC_sun_kpc\n",
    "                )\n",
    "R_kpc   = Rzphi[:,0]\n",
    "phi_rad = Rzphi[:,1]\n",
    "z_kpc   = Rzphi[:,2]\n",
    "\n",
    "#______(vx,vy,vz) & (x,y,z) --> (vR,vT,vz)______\n",
    "vRvTvZ = bovy_coords.vxvyvz_to_galcencyl(\n",
    "                U_HC_kms, \n",
    "                V_HC_kms, \n",
    "                W_HC_kms, \n",
    "                R_kpc,\n",
    "                phi_rad, \n",
    "                z_kpc,\n",
    "                Xsun=X_GC_sun_kpc,Zsun=Z_GC_sun_kpc,\n",
    "                vsun=[vX_GC_sun_kms,vY_GC_sun_kms,vZ_GC_sun_kms], \n",
    "                galcen=True\n",
    "                )\n",
    "vR_kms = vRvTvZ[:,0]\n",
    "vT_kms = vRvTvZ[:,1]\n",
    "vz_kms = vRvTvZ[:,2]"
   ]
  },
  {
   "cell_type": "code",
   "execution_count": 12,
   "metadata": {},
   "outputs": [
    {
     "name": "stdout",
     "output_type": "stream",
     "text": [
      "Galactic coordinates as calculated by galpy:\n",
      "R   =  [7.94567448] \t kpc\n",
      "phi =  [0.00519203] \t rad\n",
      "z   =  [-0.86292487] \t kpc\n",
      "v_R =  [59.52813558] \t km/s\n",
      "v_T =  [143.06611879] \t km/s\n",
      "v_z =  [3.20086104] \t km/s\n"
     ]
    }
   ],
   "source": [
    "print \"Galactic coordinates as calculated by galpy:\"\n",
    "print \"R   = \",R_kpc  ,\"\\t kpc\"\n",
    "print \"phi = \",phi_rad,\"\\t rad\"\n",
    "print \"z   = \",z_kpc  ,\"\\t kpc\"\n",
    "print \"v_R = \",vR_kms ,\"\\t km/s\"\n",
    "print \"v_T = \",vT_kms ,\"\\t km/s\"\n",
    "print \"v_z = \",vz_kms ,\"\\t km/s\""
   ]
  },
  {
   "cell_type": "markdown",
   "metadata": {},
   "source": [
    "## 6) Doing the conversion in one go with astropy"
   ]
  },
  {
   "cell_type": "markdown",
   "metadata": {},
   "source": [
    "If you prefer astropy over galpy, the following piece of code demonstrates how to do ICRS coordinate transformations with astropy. Note that the definition of the azimuth phi is different in galpy and astropy."
   ]
  },
  {
   "cell_type": "code",
   "execution_count": 13,
   "metadata": {},
   "outputs": [
    {
     "name": "stdout",
     "output_type": "stream",
     "text": [
      "Galactic coordinates as calculated by astropy:\n",
      "R   =  [7.94563548] \t kpc\n",
      "phi =  [3.1364006] \t rad\n",
      "z   =  [-0.86292487] \t kpc\n",
      "v_R =  [59.52813021] \t km/s\n",
      "v_T =  [143.06610965] \t km/s\n",
      "v_z =  [3.20086404] \t km/s\n"
     ]
    }
   ],
   "source": [
    "from astropy import units as u\n",
    "import astropy.coordinates as coord\n",
    "import math\n",
    "\n",
    "#_____coordinate transformation_____\n",
    "#input coordinates as quantities with units:\n",
    "ra     = ra_deg           *u.degree\n",
    "dec    = dec_deg          *u.degree\n",
    "dist   = d_kpc            *u.kpc\n",
    "pm_ra  = pm_ra_masyr      *u.mas/u.year\n",
    "pm_dec = pm_dec_masyr     *u.mas/u.year\n",
    "v_los  = v_los_kms        *u.km/u.s\n",
    "\n",
    "#setup frame object:\n",
    "icrs = coord.ICRS(ra=ra, \n",
    "                  dec=dec, \n",
    "                  distance=dist, \n",
    "                  pm_ra_cosdec=pm_ra, \n",
    "                  pm_dec=pm_dec, \n",
    "                  radial_velocity=v_los)\n",
    "\n",
    "#setup representation frame:\n",
    "gc = coord.Galactocentric(galcen_distance=X_GC_sun_kpc*u.kpc,\n",
    "                          galcen_v_sun=coord.CartesianDifferential([-vX_GC_sun_kms,vY_GC_sun_kms,vZ_GC_sun_kms]*u.km/u.s),\n",
    "                          z_sun=Z_GC_sun_kpc*u.kpc)\n",
    "galcen = icrs.transform_to(gc)\n",
    "\n",
    "#Galactocentric Cartesian coordinates:\n",
    "x_kpc = galcen.x.to(u.kpc).value\n",
    "y_kpc = galcen.y.to(u.kpc).value\n",
    "\n",
    "#change to Galactocentric cylindrical coordinates:\n",
    "galcen.set_representation_cls(coord.CylindricalRepresentation,s=coord.CylindricalDifferential)\n",
    "\n",
    "R_kpc   = galcen.rho.to(u.kpc).value\n",
    "phi_rad = galcen.phi.to(u.rad).value\n",
    "z_kpc   = galcen.z.to(u.kpc).value\n",
    "\n",
    "vR_kms = galcen.d_rho.to(u.km/u.s).value\n",
    "vT_kms = -(galcen.d_phi.to(u.rad/u.s)*galcen.rho.to(u.km)  / (1.*u.radian)).value\n",
    "vz_kms = galcen.d_z.to(u.km/u.s).value\n",
    "\n",
    "print \"Galactic coordinates as calculated by astropy:\"\n",
    "print \"R   = \",R_kpc  ,\"\\t kpc\"\n",
    "print \"phi = \",phi_rad,\"\\t rad\"\n",
    "print \"z   = \",z_kpc  ,\"\\t kpc\"\n",
    "print \"v_R = \",vR_kms ,\"\\t km/s\"\n",
    "print \"v_T = \",vT_kms ,\"\\t km/s\"\n",
    "print \"v_z = \",vz_kms ,\"\\t km/s\""
   ]
  }
 ],
 "metadata": {
  "kernelspec": {
   "display_name": "Python 2",
   "language": "python",
   "name": "python2"
  },
  "language_info": {
   "codemirror_mode": {
    "name": "ipython",
    "version": 2
   },
   "file_extension": ".py",
   "mimetype": "text/x-python",
   "name": "python",
   "nbconvert_exporter": "python",
   "pygments_lexer": "ipython2",
   "version": "2.7.14"
  }
 },
 "nbformat": 4,
 "nbformat_minor": 2
}
